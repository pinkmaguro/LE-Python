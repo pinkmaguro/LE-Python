{
 "cells": [
  {
   "cell_type": "markdown",
   "metadata": {},
   "source": [
    "## 정규식 기본 내용 정리\n",
    "\n",
    "https://docs.python.org/3/library/re.html\n",
    "\n",
    "유니코드 스트링 또는 8비트 스트링(bytes) 모두 정규식 패턴을 사용할 수 있지만\n",
    "유니코드 스트링를 바이트 패턴에 사용하거나 또는 그 반대로 사용할 수 없다.\n",
    "\n",
    "\n",
    "정규식은 역슬래쉬('\\')를 특별한 문자로 사용한다.\n",
    "\n",
    "스트링에서 역슬래쉬 하나를 표현하는 것은 '\\\\' 이다.\n",
    "\n",
    "'\\\\' 에 대한 패턴은 '\\\\\\\\' 가 된다."
   ]
  },
  {
   "cell_type": "code",
   "execution_count": 9,
   "metadata": {},
   "outputs": [],
   "source": [
    "import re"
   ]
  },
  {
   "cell_type": "code",
   "execution_count": 16,
   "metadata": {},
   "outputs": [
    {
     "data": {
      "text/plain": [
       "'C:/dev\\n'"
      ]
     },
     "execution_count": 16,
     "metadata": {},
     "output_type": "execute_result"
    }
   ],
   "source": [
    "myDev = \"C:\\\\dev\\n\"\n",
    "\n",
    "myDev.replace('\\\\', '/')"
   ]
  },
  {
   "cell_type": "code",
   "execution_count": 19,
   "metadata": {},
   "outputs": [
    {
     "data": {
      "text/plain": [
       "'C:\\\\dev/'"
      ]
     },
     "execution_count": 19,
     "metadata": {},
     "output_type": "execute_result"
    }
   ],
   "source": [
    "myDev.replace(\"\\n\", '/')"
   ]
  },
  {
   "cell_type": "code",
   "execution_count": 20,
   "metadata": {},
   "outputs": [
    {
     "data": {
      "text/plain": [
       "'C:\\\\dev\\n'"
      ]
     },
     "execution_count": 20,
     "metadata": {},
     "output_type": "execute_result"
    }
   ],
   "source": [
    "myDev.replace(r\"\\n\", '/')"
   ]
  },
  {
   "cell_type": "code",
   "execution_count": 23,
   "metadata": {},
   "outputs": [
    {
     "ename": "SyntaxError",
     "evalue": "EOL while scanning string literal (<ipython-input-23-fafe7a7bd7c9>, line 2)",
     "output_type": "error",
     "traceback": [
      "\u001b[0;36m  File \u001b[0;32m\"<ipython-input-23-fafe7a7bd7c9>\"\u001b[0;36m, line \u001b[0;32m2\u001b[0m\n\u001b[0;31m    myDev.replace(r\"\\\", '/')\u001b[0m\n\u001b[0m                            ^\u001b[0m\n\u001b[0;31mSyntaxError\u001b[0m\u001b[0;31m:\u001b[0m EOL while scanning string literal\n"
     ]
    }
   ],
   "source": [
    "# Why this expression invoke an error?\n",
    "myDev.replace(r\"\\\", '/')"
   ]
  },
  {
   "cell_type": "markdown",
   "metadata": {},
   "source": [
    "### raw string notation\n",
    "\n",
    "raw notation  에서는 백슬래쉬는 특별하게 다뤄지지 않는다.\n",
    "\n",
    "r\"\\n\" 은 두 개의 캐릭터 '\\', 'n' 를 나타낸다.\n",
    "\n",
    "\"\\n\" 는 newline 을 나타내는 하나의 캐릭터다."
   ]
  },
  {
   "cell_type": "code",
   "execution_count": null,
   "metadata": {},
   "outputs": [],
   "source": []
  }
 ],
 "metadata": {
  "kernelspec": {
   "display_name": "Python 3",
   "language": "python",
   "name": "python3"
  },
  "language_info": {
   "codemirror_mode": {
    "name": "ipython",
    "version": 3
   },
   "file_extension": ".py",
   "mimetype": "text/x-python",
   "name": "python",
   "nbconvert_exporter": "python",
   "pygments_lexer": "ipython3",
   "version": "3.6.4"
  }
 },
 "nbformat": 4,
 "nbformat_minor": 2
}
