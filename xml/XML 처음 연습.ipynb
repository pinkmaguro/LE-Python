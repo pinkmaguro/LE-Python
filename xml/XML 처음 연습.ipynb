{
 "cells": [
  {
   "cell_type": "markdown",
   "metadata": {},
   "source": [
    "## Parsing XML\n",
    "\n",
    "https://docs.python.org/3/library/xml.etree.elementtree.html"
   ]
  },
  {
   "cell_type": "code",
   "execution_count": 3,
   "metadata": {},
   "outputs": [],
   "source": [
    "xml = \"\"\"<?xml version=\"1.0\"?>\n",
    "<data>\n",
    "    <country name=\"Liechtenstein\">\n",
    "        <rank>1</rank>\n",
    "        <year>2008</year>\n",
    "        <gdppc>141100</gdppc>\n",
    "        <neighbor name=\"Austria\" direction=\"E\"/>\n",
    "        <neighbor name=\"Switzerland\" direction=\"W\"/>\n",
    "    </country>\n",
    "    <country name=\"Singapore\">\n",
    "        <rank>4</rank>\n",
    "        <year>2011</year>\n",
    "        <gdppc>59900</gdppc>\n",
    "        <neighbor name=\"Malaysia\" direction=\"N\"/>\n",
    "    </country>\n",
    "    <country name=\"Panama\">\n",
    "        <rank>68</rank>\n",
    "        <year>2011</year>\n",
    "        <gdppc>13600</gdppc>\n",
    "        <neighbor name=\"Costa Rica\" direction=\"W\"/>\n",
    "        <neighbor name=\"Colombia\" direction=\"E\"/>\n",
    "    </country>\n",
    "</data>\"\"\""
   ]
  },
  {
   "cell_type": "code",
   "execution_count": 5,
   "metadata": {},
   "outputs": [],
   "source": [
    "import xml.etree.ElementTree as ET\n",
    "\n",
    "tree = ET.parse('country_data.xml')  # or ET.fromstring(xml)\n",
    "root = tree.getroot()"
   ]
  },
  {
   "cell_type": "code",
   "execution_count": 10,
   "metadata": {},
   "outputs": [
    {
     "data": {
      "text/plain": [
       "(xml.etree.ElementTree.Element, 'data', {})"
      ]
     },
     "execution_count": 10,
     "metadata": {},
     "output_type": "execute_result"
    }
   ],
   "source": [
    "type(root), root.tag, root.attrib"
   ]
  },
  {
   "cell_type": "code",
   "execution_count": 8,
   "metadata": {},
   "outputs": [
    {
     "name": "stdout",
     "output_type": "stream",
     "text": [
      "country {'name': 'Liechtenstein'}\n",
      "country {'name': 'Singapore'}\n",
      "country {'name': 'Panama'}\n"
     ]
    }
   ],
   "source": [
    "for child in root:\n",
    "    print(child.tag, child.attrib)"
   ]
  },
  {
   "cell_type": "code",
   "execution_count": 9,
   "metadata": {},
   "outputs": [
    {
     "data": {
      "text/plain": [
       "'2008'"
      ]
     },
     "execution_count": 9,
     "metadata": {},
     "output_type": "execute_result"
    }
   ],
   "source": [
    "root[0][1].text"
   ]
  },
  {
   "cell_type": "markdown",
   "metadata": {},
   "source": [
    "## Finding interesting elements¶\n",
    "\n",
    "Element.iter() 는 재귀적으로 하위 트리까지 모두 탐색한다."
   ]
  },
  {
   "cell_type": "code",
   "execution_count": 11,
   "metadata": {},
   "outputs": [
    {
     "name": "stdout",
     "output_type": "stream",
     "text": [
      "{'name': 'Austria', 'direction': 'E'}\n",
      "{'name': 'Switzerland', 'direction': 'W'}\n",
      "{'name': 'Malaysia', 'direction': 'N'}\n",
      "{'name': 'Costa Rica', 'direction': 'W'}\n",
      "{'name': 'Colombia', 'direction': 'E'}\n"
     ]
    }
   ],
   "source": [
    "for neighbor in root.iter('neighbor'):\n",
    "    print(neighbor.attrib)"
   ]
  },
  {
   "cell_type": "code",
   "execution_count": 12,
   "metadata": {},
   "outputs": [
    {
     "data": {
      "text/plain": [
       "'2008'"
      ]
     },
     "execution_count": 12,
     "metadata": {},
     "output_type": "execute_result"
    }
   ],
   "source": [
    "root[0][1].text"
   ]
  },
  {
   "cell_type": "markdown",
   "metadata": {},
   "source": [
    "텍스트 정보가 있다면 표시함"
   ]
  },
  {
   "cell_type": "code",
   "execution_count": 13,
   "metadata": {},
   "outputs": [
    {
     "data": {
      "text/plain": [
       "'\\n        '"
      ]
     },
     "execution_count": 13,
     "metadata": {},
     "output_type": "execute_result"
    }
   ],
   "source": [
    "root[0].text"
   ]
  },
  {
   "cell_type": "code",
   "execution_count": 15,
   "metadata": {},
   "outputs": [
    {
     "ename": "AttributeError",
     "evalue": "'xml.etree.ElementTree.Element' object has no attribute 'childNodes'",
     "output_type": "error",
     "traceback": [
      "\u001b[1;31m---------------------------------------------------------------------------\u001b[0m",
      "\u001b[1;31mAttributeError\u001b[0m                            Traceback (most recent call last)",
      "\u001b[1;32m<ipython-input-15-711befd75692>\u001b[0m in \u001b[0;36m<module>\u001b[1;34m()\u001b[0m\n\u001b[1;32m----> 1\u001b[1;33m \u001b[0mroot\u001b[0m\u001b[1;33m.\u001b[0m\u001b[0mchildNodes\u001b[0m\u001b[1;33m\u001b[0m\u001b[0m\n\u001b[0m",
      "\u001b[1;31mAttributeError\u001b[0m: 'xml.etree.ElementTree.Element' object has no attribute 'childNodes'"
     ]
    }
   ],
   "source": [
    "root.childNodes"
   ]
  },
  {
   "cell_type": "code",
   "execution_count": 16,
   "metadata": {},
   "outputs": [
    {
     "data": {
      "text/plain": [
       "xml.etree.ElementTree.Element"
      ]
     },
     "execution_count": 16,
     "metadata": {},
     "output_type": "execute_result"
    }
   ],
   "source": [
    "type(root)"
   ]
  },
  {
   "cell_type": "markdown",
   "metadata": {},
   "source": [
    "## DOM"
   ]
  },
  {
   "cell_type": "code",
   "execution_count": 71,
   "metadata": {
    "collapsed": true
   },
   "outputs": [],
   "source": [
    "from xml.dom.minidom import parse, parseString"
   ]
  },
  {
   "cell_type": "code",
   "execution_count": 136,
   "metadata": {
    "collapsed": true
   },
   "outputs": [],
   "source": [
    "dom = parse(open('book.xml'))"
   ]
  },
  {
   "cell_type": "code",
   "execution_count": 36,
   "metadata": {},
   "outputs": [
    {
     "data": {
      "text/plain": [
       "xml.dom.minidom.Document"
      ]
     },
     "execution_count": 36,
     "metadata": {},
     "output_type": "execute_result"
    }
   ],
   "source": [
    "type(dom)"
   ]
  },
  {
   "cell_type": "code",
   "execution_count": 37,
   "metadata": {},
   "outputs": [
    {
     "data": {
      "text/plain": [
       "'booklist'"
      ]
     },
     "execution_count": 37,
     "metadata": {},
     "output_type": "execute_result"
    }
   ],
   "source": [
    "dom.childNodes[0].nodeName"
   ]
  },
  {
   "cell_type": "code",
   "execution_count": 38,
   "metadata": {
    "collapsed": true
   },
   "outputs": [],
   "source": [
    "booklist = dom.childNodes"
   ]
  },
  {
   "cell_type": "code",
   "execution_count": 39,
   "metadata": {},
   "outputs": [
    {
     "data": {
      "text/plain": [
       "'booklist'"
      ]
     },
     "execution_count": 39,
     "metadata": {},
     "output_type": "execute_result"
    }
   ],
   "source": [
    "booklist[0].nodeName"
   ]
  },
  {
   "cell_type": "markdown",
   "metadata": {},
   "source": [
    "## 노드 타입\n",
    "\n",
    "ELEMENT_CODE = 1\n",
    "\n",
    "ATTRIBUTE_NODE = 2\n",
    "\n",
    "TEXT_NODE = 3\n",
    "\n",
    "CDATA_SECTION_NODE = 4\n",
    "\n",
    "ENTITY_NODE = 5\n",
    "\n",
    "DOCUMENT_TYPE_NODE = 9\n",
    "...\n",
    "\n"
   ]
  },
  {
   "cell_type": "markdown",
   "metadata": {},
   "source": [
    "최상위 루트는 DOCUMETN 타입니다. 루트의 자손에 booklist 가 있다.\n",
    "\n",
    "booklist 의 자손에는 여러 책이 들어 있다.\n",
    "\n",
    "이 책들에 대한 노드는 다음과 같다.\n",
    "\n",
    "books = dom.childNodes[0].childNodes\n",
    "\n",
    "책의 노트 타입은 ELEMENT 다."
   ]
  },
  {
   "cell_type": "code",
   "execution_count": 73,
   "metadata": {},
   "outputs": [
    {
     "data": {
      "text/plain": [
       "('#document', 9)"
      ]
     },
     "execution_count": 73,
     "metadata": {},
     "output_type": "execute_result"
    }
   ],
   "source": [
    "dom.nodeName, dom.nodeType"
   ]
  },
  {
   "cell_type": "code",
   "execution_count": 81,
   "metadata": {},
   "outputs": [
    {
     "data": {
      "text/plain": [
       "('book', 1)"
      ]
     },
     "execution_count": 81,
     "metadata": {},
     "output_type": "execute_result"
    }
   ],
   "source": [
    "books = dom.childNodes[0].childNodes\n",
    "books[1].nodeName, books[1].nodeType"
   ]
  },
  {
   "cell_type": "code",
   "execution_count": 76,
   "metadata": {
    "scrolled": true
   },
   "outputs": [
    {
     "name": "stdout",
     "output_type": "stream",
     "text": [
      "3 #text\n",
      "1 book\n",
      "3 #text\n",
      "1 book\n",
      "3 #text\n",
      "1 book\n",
      "3 #text\n"
     ]
    }
   ],
   "source": [
    "for book in books:\n",
    "    print(book.nodeType, book.nodeName)\n",
    "    if book.nodeType == 3:\n",
    "        pass\n",
    "        #print('\\t', book.nodeValue)"
   ]
  },
  {
   "cell_type": "markdown",
   "metadata": {},
   "source": [
    "루트로부터 두 단계 아래인 book 까지는 child 노드를 두번 사용하고 노드 타입이 3인 엘리먼트를 선택해서 도달할 수 있었다.\n",
    "\n",
    "book 엘리먼트가 가지고 있는 정보를 탐색해보겠다."
   ]
  },
  {
   "cell_type": "code",
   "execution_count": 115,
   "metadata": {},
   "outputs": [
    {
     "name": "stdout",
     "output_type": "stream",
     "text": [
      "title  :  The Very Hungry Caterpillar Pop-Up Book\n",
      "title  :  The Shack\n",
      "title  :  You Can Negotiate Anything\n"
     ]
    }
   ],
   "source": [
    "for book in books:\n",
    "    if book.nodeName == 'book':\n",
    "        for item in book.childNodes:\n",
    "            if item.nodeName == 'title':\n",
    "                print(item.tagName, ' : ',item.firstChild.nodeValue)\n",
    "        "
   ]
  },
  {
   "cell_type": "code",
   "execution_count": 142,
   "metadata": {},
   "outputs": [
    {
     "name": "stdout",
     "output_type": "stream",
     "text": [
      "The Very Hungry Caterpillar Pop-Up Book\n",
      "The Very Hungry Caterpillar Pop-Up Book\n"
     ]
    }
   ],
   "source": [
    "print(dom.getElementsByTagName(\"title\")[0].childNodes[0].data)\n",
    "print(books[1].getElementsByTagName(\"title\")[0].childNodes[0].data)\n",
    "\n",
    "                \n",
    "        \n",
    "        "
   ]
  },
  {
   "cell_type": "code",
   "execution_count": 103,
   "metadata": {},
   "outputs": [
    {
     "data": {
      "text/plain": [
       "'The Very Hungry Caterpillar Pop-Up Book'"
      ]
     },
     "execution_count": 103,
     "metadata": {},
     "output_type": "execute_result"
    }
   ],
   "source": [
    "books[1].childNodes[1].firstChild.nodeValue"
   ]
  },
  {
   "cell_type": "code",
   "execution_count": 147,
   "metadata": {
    "scrolled": false
   },
   "outputs": [
    {
     "data": {
      "text/plain": [
       "(<xml.dom.minidom.NamedNodeMap at 0x49d77c8>, xml.dom.minidom.NamedNodeMap)"
      ]
     },
     "execution_count": 147,
     "metadata": {},
     "output_type": "execute_result"
    }
   ],
   "source": [
    "books[1].attributes, type(books[1].attributes)"
   ]
  },
  {
   "cell_type": "code",
   "execution_count": 156,
   "metadata": {
    "scrolled": true
   },
   "outputs": [
    {
     "ename": "TypeError",
     "evalue": "'bool' object is not callable",
     "output_type": "error",
     "traceback": [
      "\u001b[1;31m---------------------------------------------------------------------------\u001b[0m",
      "\u001b[1;31mTypeError\u001b[0m                                 Traceback (most recent call last)",
      "\u001b[1;32m<ipython-input-156-5209c77e4275>\u001b[0m in \u001b[0;36m<module>\u001b[1;34m()\u001b[0m\n\u001b[0;32m      1\u001b[0m \u001b[1;32mfrom\u001b[0m \u001b[0mpm\u001b[0m\u001b[1;33m.\u001b[0m\u001b[0mpprint\u001b[0m \u001b[1;32mimport\u001b[0m \u001b[0mshow_attr\u001b[0m\u001b[1;33m\u001b[0m\u001b[0m\n\u001b[1;32m----> 2\u001b[1;33m \u001b[0mshow_attr\u001b[0m\u001b[1;33m(\u001b[0m\u001b[0mbooks\u001b[0m\u001b[1;33m[\u001b[0m\u001b[1;36m1\u001b[0m\u001b[1;33m]\u001b[0m\u001b[1;33m.\u001b[0m\u001b[0mattributes\u001b[0m\u001b[1;33m)\u001b[0m\u001b[1;33m\u001b[0m\u001b[0m\n\u001b[0m",
      "\u001b[1;32mD:\\Dev\\Python\\pm\\pm\\pprint.py\u001b[0m in \u001b[0;36mshow_attr\u001b[1;34m(cls, sep, cols, print)\u001b[0m\n\u001b[0;32m     15\u001b[0m \u001b[1;33m\u001b[0m\u001b[0m\n\u001b[0;32m     16\u001b[0m     \u001b[1;32mif\u001b[0m \u001b[0mshow\u001b[0m\u001b[1;33m:\u001b[0m\u001b[1;33m\u001b[0m\u001b[0m\n\u001b[1;32m---> 17\u001b[1;33m         \u001b[0mprint\u001b[0m\u001b[1;33m(\u001b[0m\u001b[0mattr_str\u001b[0m\u001b[1;33m)\u001b[0m\u001b[1;33m\u001b[0m\u001b[0m\n\u001b[0m\u001b[0;32m     18\u001b[0m     \u001b[1;32mreturn\u001b[0m \u001b[0mattr_str\u001b[0m\u001b[1;33m\u001b[0m\u001b[0m\n\u001b[0;32m     19\u001b[0m \u001b[1;33m\u001b[0m\u001b[0m\n",
      "\u001b[1;31mTypeError\u001b[0m: 'bool' object is not callable"
     ]
    }
   ],
   "source": [
    "from pm.pprint import show_attr\n",
    "show_attr(books[1].attributes)"
   ]
  },
  {
   "cell_type": "code",
   "execution_count": 149,
   "metadata": {},
   "outputs": [
    {
     "data": {
      "text/plain": [
       "<bound method NamedNodeMap.values of <xml.dom.minidom.NamedNodeMap object at 0x0000000005856E48>>"
      ]
     },
     "execution_count": 149,
     "metadata": {},
     "output_type": "execute_result"
    }
   ],
   "source": [
    "books[1].attributes.values"
   ]
  },
  {
   "cell_type": "markdown",
   "metadata": {},
   "source": [
    "## DOM \n",
    "\n",
    "https://docs.python.org/3.0/library/xml.dom.minidom.html"
   ]
  },
  {
   "cell_type": "code",
   "execution_count": 122,
   "metadata": {},
   "outputs": [
    {
     "data": {
      "text/plain": [
       "('Some data', 'Some data')"
      ]
     },
     "execution_count": 122,
     "metadata": {},
     "output_type": "execute_result"
    }
   ],
   "source": [
    "dom3 = parseString(\"<myxml>Some data</myxml>\")\n",
    "\n",
    "dom3.documentElement.firstChild.nodeValue, dom3.documentElement.firstChild.data"
   ]
  },
  {
   "cell_type": "code",
   "execution_count": 118,
   "metadata": {
    "scrolled": true
   },
   "outputs": [
    {
     "data": {
      "text/plain": [
       "('myxml', 'myxml')"
      ]
     },
     "execution_count": 118,
     "metadata": {},
     "output_type": "execute_result"
    }
   ],
   "source": [
    "dom3.documentElement.tagName, dom3.documentElement.nodeName"
   ]
  },
  {
   "cell_type": "code",
   "execution_count": 121,
   "metadata": {},
   "outputs": [
    {
     "data": {
      "text/plain": [
       "'Some data'"
      ]
     },
     "execution_count": 121,
     "metadata": {},
     "output_type": "execute_result"
    }
   ],
   "source": []
  },
  {
   "cell_type": "markdown",
   "metadata": {},
   "source": [
    "## DOM Example"
   ]
  },
  {
   "cell_type": "code",
   "execution_count": 117,
   "metadata": {},
   "outputs": [
    {
     "name": "stdout",
     "output_type": "stream",
     "text": [
      "<html>\n",
      "<title>Demo slideshow</title>\n",
      "<p>Slide title</p>\n",
      "<p>Another demo slide</p>\n",
      "<h2>Slide title</h2>\n",
      "<ul>\n",
      "<li>This is a demo</li>\n",
      "<li>Of a program for processing slides</li>\n",
      "</ul>\n",
      "<h2>Another demo slide</h2>\n",
      "<ul>\n",
      "<li>It is important</li>\n",
      "<li>To have more than</li>\n",
      "<li>one slide</li>\n",
      "</ul>\n",
      "</html>\n"
     ]
    }
   ],
   "source": [
    "import xml.dom.minidom\n",
    "\n",
    "document = \"\"\"\\\n",
    "<slideshow>\n",
    "<title>Demo slideshow</title>\n",
    "<slide><title>Slide title</title>\n",
    "<point>This is a demo</point>\n",
    "<point>Of a program for processing slides</point>\n",
    "</slide>\n",
    "\n",
    "<slide><title>Another demo slide</title>\n",
    "<point>It is important</point>\n",
    "<point>To have more than</point>\n",
    "<point>one slide</point>\n",
    "</slide>\n",
    "</slideshow>\n",
    "\"\"\"\n",
    "\n",
    "dom = xml.dom.minidom.parseString(document)\n",
    "\n",
    "def getText(nodelist):\n",
    "    rc = \"\"\n",
    "    for node in nodelist:\n",
    "        if node.nodeType == node.TEXT_NODE:\n",
    "            rc = rc + node.data\n",
    "    return rc\n",
    "\n",
    "def handleSlideshow(slideshow):\n",
    "    print(\"<html>\")\n",
    "    handleSlideshowTitle(slideshow.getElementsByTagName(\"title\")[0])\n",
    "    slides = slideshow.getElementsByTagName(\"slide\")\n",
    "    handleToc(slides)\n",
    "    handleSlides(slides)\n",
    "    print(\"</html>\")\n",
    "\n",
    "def handleSlides(slides):\n",
    "    for slide in slides:\n",
    "        handleSlide(slide)\n",
    "\n",
    "def handleSlide(slide):\n",
    "    handleSlideTitle(slide.getElementsByTagName(\"title\")[0])\n",
    "    handlePoints(slide.getElementsByTagName(\"point\"))\n",
    "\n",
    "def handleSlideshowTitle(title):\n",
    "    print(\"<title>%s</title>\" % getText(title.childNodes))\n",
    "\n",
    "def handleSlideTitle(title):\n",
    "    print(\"<h2>%s</h2>\" % getText(title.childNodes))\n",
    "\n",
    "def handlePoints(points):\n",
    "    print(\"<ul>\")\n",
    "    for point in points:\n",
    "        handlePoint(point)\n",
    "    print(\"</ul>\")\n",
    "\n",
    "def handlePoint(point):\n",
    "    print(\"<li>%s</li>\" % getText(point.childNodes))\n",
    "\n",
    "def handleToc(slides):\n",
    "    for slide in slides:\n",
    "        title = slide.getElementsByTagName(\"title\")[0]\n",
    "        print(\"<p>%s</p>\" % getText(title.childNodes))\n",
    "\n",
    "handleSlideshow(dom)"
   ]
  },
  {
   "cell_type": "markdown",
   "metadata": {},
   "source": [
    "## 도서관리목록 디버깅"
   ]
  },
  {
   "cell_type": "code",
   "execution_count": 179,
   "metadata": {},
   "outputs": [],
   "source": [
    "dom = parse(open('book.xml'))"
   ]
  },
  {
   "cell_type": "code",
   "execution_count": 180,
   "metadata": {
    "collapsed": true
   },
   "outputs": [],
   "source": [
    "title_elements = dom.getElementsByTagName('title')"
   ]
  },
  {
   "cell_type": "code",
   "execution_count": 181,
   "metadata": {},
   "outputs": [
    {
     "name": "stdout",
     "output_type": "stream",
     "text": [
      "1\n",
      "The Very Hungry Caterpillar Pop-Up Book\n",
      "1\n",
      "The Shack\n",
      "1\n",
      "You Can Negotiate Anything\n"
     ]
    }
   ],
   "source": [
    "for elem in title_elements:\n",
    "    print(elem.nodeType)\n",
    "    print(elem.firstChild.data)"
   ]
  },
  {
   "cell_type": "code",
   "execution_count": 182,
   "metadata": {},
   "outputs": [
    {
     "name": "stdout",
     "output_type": "stream",
     "text": [
      "1\n"
     ]
    },
    {
     "ename": "AttributeError",
     "evalue": "'NoneType' object has no attribute 'data'",
     "output_type": "error",
     "traceback": [
      "\u001b[1;31m---------------------------------------------------------------------------\u001b[0m",
      "\u001b[1;31mAttributeError\u001b[0m                            Traceback (most recent call last)",
      "\u001b[1;32m<ipython-input-182-339aa169e21c>\u001b[0m in \u001b[0;36m<module>\u001b[1;34m()\u001b[0m\n\u001b[0;32m      2\u001b[0m \u001b[1;32mfor\u001b[0m \u001b[0melem\u001b[0m \u001b[1;32min\u001b[0m \u001b[0mauthor_elements\u001b[0m\u001b[1;33m:\u001b[0m\u001b[1;33m\u001b[0m\u001b[0m\n\u001b[0;32m      3\u001b[0m     \u001b[0mprint\u001b[0m\u001b[1;33m(\u001b[0m\u001b[0melem\u001b[0m\u001b[1;33m.\u001b[0m\u001b[0mnodeType\u001b[0m\u001b[1;33m)\u001b[0m\u001b[1;33m\u001b[0m\u001b[0m\n\u001b[1;32m----> 4\u001b[1;33m     \u001b[0mprint\u001b[0m\u001b[1;33m(\u001b[0m\u001b[0melem\u001b[0m\u001b[1;33m.\u001b[0m\u001b[0mfirstChild\u001b[0m\u001b[1;33m.\u001b[0m\u001b[0mdata\u001b[0m\u001b[1;33m)\u001b[0m\u001b[1;33m\u001b[0m\u001b[0m\n\u001b[0m",
      "\u001b[1;31mAttributeError\u001b[0m: 'NoneType' object has no attribute 'data'"
     ]
    }
   ],
   "source": [
    "author_elements = dom.getElementsByTagName('author')\n",
    "for elem in author_elements:\n",
    "    print(elem.nodeType)\n",
    "    print(elem.firstChild.data)"
   ]
  },
  {
   "cell_type": "markdown",
   "metadata": {},
   "source": [
    "## DOM 에 내용 추가하기"
   ]
  },
  {
   "cell_type": "code",
   "execution_count": 188,
   "metadata": {},
   "outputs": [
    {
     "name": "stdout",
     "output_type": "stream",
     "text": [
      "<?xml version=\"1.0\" ?><booklist cnt=\"3\">\n",
      " <book ISBN=\"0399250395\">\n",
      "       <title>The Very Hungry Caterpillar Pop-Up Book</title>\n",
      "       <author name=\"Eric Carle\"/>\n",
      " <author name=\"Keith Finch\"/>\n",
      " <publisher> Philomel Books</publisher>\n",
      " <description> Celebrating the 40th anniverary of one of the most popular children's books ever created</description>\n",
      " </book>\n",
      " <book ISBN=\"0964729237\">\n",
      "    <title lang=\"english\">The Shack</title>\n",
      " </book>\n",
      " <book ISBN=\"0553281097\">\n",
      "    <title>You Can Negotiate Anything</title>\n",
      "    <author name=\"Herb Cohen\"/>\n",
      "    <category cid=\"12\">Negotiate and narrative skill</category>\n",
      " </book>\n",
      "<book ISBN=\"111111111111111111111111111111\"><title>ninja go</title></book></booklist>\n"
     ]
    }
   ],
   "source": [
    "dom = parse(open('book.xml'))\n",
    "newBook = dom.createElement('book')\n",
    "newBook.setAttribute('ISBN','111111111111111111111111111111')\n",
    "\n",
    "titleElem = dom.createElement('title')\n",
    "titleNode = dom.createTextNode('ninja go')\n",
    "titleElem.appendChild(titleNode)\n",
    "\n",
    "newBook.appendChild(titleElem)\n",
    "\n",
    "\n",
    "dom.firstChild.appendChild(newBook)\n",
    "\n",
    "print(dom.toxml())\n"
   ]
  }
 ],
 "metadata": {
  "kernelspec": {
   "display_name": "Python 3",
   "language": "python",
   "name": "python3"
  },
  "language_info": {
   "codemirror_mode": {
    "name": "ipython",
    "version": 3
   },
   "file_extension": ".py",
   "mimetype": "text/x-python",
   "name": "python",
   "nbconvert_exporter": "python",
   "pygments_lexer": "ipython3",
   "version": "3.6.1"
  }
 },
 "nbformat": 4,
 "nbformat_minor": 2
}
