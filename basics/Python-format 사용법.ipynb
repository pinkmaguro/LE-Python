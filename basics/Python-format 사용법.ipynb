{
 "cells": [
  {
   "cell_type": "markdown",
   "metadata": {},
   "source": [
    "## 기본 형식\n",
    "\n",
    "{} {} :  왼쪽부터 인수로 지정한 값으로 치환\n",
    "\n",
    "{0}{1} : 지정된 위치의 인수 값으로 치환\n",
    "\n",
    "{name} {key} : kwargs 또는 format_map()에서 지정한 사전의 키에 해당하는 값으로 치환"
   ]
  },
  {
   "cell_type": "code",
   "execution_count": 11,
   "metadata": {},
   "outputs": [
    {
     "data": {
      "text/plain": [
       "'My name is Ryan'"
      ]
     },
     "execution_count": 11,
     "metadata": {},
     "output_type": "execute_result"
    }
   ],
   "source": [
    "'My name is {name}'.format(name='Ryan')"
   ]
  },
  {
   "cell_type": "markdown",
   "metadata": {},
   "source": [
    "딕셔너리의 키는 속성이 아니기 때문에  dict_name[attr_name] 으로 접근합니다.\n",
    "\n",
    "속성이라면 dict_name.attr_name 와 깉이 접근하겠죠."
   ]
  },
  {
   "cell_type": "code",
   "execution_count": 12,
   "metadata": {
    "scrolled": false
   },
   "outputs": [
    {
     "data": {
      "text/plain": [
       "'Ryan lives in Korea'"
      ]
     },
     "execution_count": 12,
     "metadata": {},
     "output_type": "execute_result"
    }
   ],
   "source": [
    "person = {'name': 'Ryan', 'country': 'Korea'}\n",
    "\n",
    "'{0[name]} lives in {0[country]}'.format(person)"
   ]
  },
  {
   "cell_type": "markdown",
   "metadata": {},
   "source": [
    "{0} 표현을 사용하고 싶지 않거나 참조하는 요소를 더 명확하게 하고 싶을 때 kwargs 를 사용하면 되겠습니다."
   ]
  },
  {
   "cell_type": "code",
   "execution_count": 13,
   "metadata": {
    "scrolled": true
   },
   "outputs": [
    {
     "data": {
      "text/plain": [
       "'Ryan lives in Korea'"
      ]
     },
     "execution_count": 13,
     "metadata": {},
     "output_type": "execute_result"
    }
   ],
   "source": [
    "'{person[name]} lives in {person[country]}'.format(person=person)"
   ]
  },
  {
   "cell_type": "markdown",
   "metadata": {},
   "source": [
    "(단일) 딕셔너리 인자를 더 적은 타이핑으로 쓸려면 format_map(dict_name)을 사용합니다."
   ]
  },
  {
   "cell_type": "code",
   "execution_count": 14,
   "metadata": {},
   "outputs": [
    {
     "data": {
      "text/plain": [
       "'Ryan lives in Korea'"
      ]
     },
     "execution_count": 14,
     "metadata": {},
     "output_type": "execute_result"
    }
   ],
   "source": [
    "'{name} lives in {country}'.format_map(person)"
   ]
  },
  {
   "cell_type": "markdown",
   "metadata": {},
   "source": [
    "\n",
    "## 포맷 지정 방법\n",
    "\n",
    "포맷으로 할 수 있는 것\n",
    "\n",
    "- 자릿수 지정  :(align sign)10  , 각각 왼쪽 맞춤(<), 오른쪽 맞춤(>), 가운데 맞춤(^)\n",
    "- 공백 매우기  :-<10   :(filing)(align)(length)            빈공간을 - 로 메꿈\n",
    "- 레이아웃 조정\n",
    "    - N 진수 표현   :b :o :d :x :X    각각 2진수, 8진수, 10진수, 16진수, 16진수(대문자)\n",
    "    - 백분율 표기   :%\n",
    "    - 세 자리마다 쉽표   :,\n",
    "    - 표시할 자릿수 지정    :6.2f     6은 전체 자릿수, 2는 소수점 이하 자릿수\n",
    "    - 날짜 포맷 지정   :%Y-%m-%d  "
   ]
  },
  {
   "cell_type": "code",
   "execution_count": 1,
   "metadata": {},
   "outputs": [
    {
     "data": {
      "text/plain": [
       "'|left align                    |'"
      ]
     },
     "execution_count": 1,
     "metadata": {},
     "output_type": "execute_result"
    }
   ],
   "source": [
    "import math\n",
    "\n",
    "'|{:<30}|'.format('left align')"
   ]
  },
  {
   "cell_type": "code",
   "execution_count": 16,
   "metadata": {},
   "outputs": [
    {
     "data": {
      "text/plain": [
       "'|                   right align|'"
      ]
     },
     "execution_count": 16,
     "metadata": {},
     "output_type": "execute_result"
    }
   ],
   "source": [
    "'|{:>30}|'.format('right align')"
   ]
  },
  {
   "cell_type": "code",
   "execution_count": 17,
   "metadata": {},
   "outputs": [
    {
     "data": {
      "text/plain": [
       "'|         center align         |'"
      ]
     },
     "execution_count": 17,
     "metadata": {},
     "output_type": "execute_result"
    }
   ],
   "source": [
    "'|{:^30}|'.format('center align')"
   ]
  },
  {
   "cell_type": "code",
   "execution_count": 18,
   "metadata": {},
   "outputs": [
    {
     "data": {
      "text/plain": [
       "'|---------center align---------|'"
      ]
     },
     "execution_count": 18,
     "metadata": {},
     "output_type": "execute_result"
    }
   ],
   "source": [
    "'|{:-^30}|'.format('center align')"
   ]
  },
  {
   "cell_type": "code",
   "execution_count": 20,
   "metadata": {},
   "outputs": [
    {
     "data": {
      "text/plain": [
       "'1111101000 1750 1000 3e8 3E8'"
      ]
     },
     "execution_count": 20,
     "metadata": {},
     "output_type": "execute_result"
    }
   ],
   "source": [
    "'{0:b} {0:o} {0:d} {0:x} {0:X}'.format(1000)"
   ]
  },
  {
   "cell_type": "code",
   "execution_count": 25,
   "metadata": {},
   "outputs": [
    {
     "data": {
      "text/plain": [
       "'3.141592653589793    3.14'"
      ]
     },
     "execution_count": 25,
     "metadata": {},
     "output_type": "execute_result"
    }
   ],
   "source": [
    "'{0}    {0:.2f}'.format(math.pi)"
   ]
  },
  {
   "cell_type": "code",
   "execution_count": 26,
   "metadata": {},
   "outputs": [
    {
     "data": {
      "text/plain": [
       "'123,456,789,000'"
      ]
     },
     "execution_count": 26,
     "metadata": {},
     "output_type": "execute_result"
    }
   ],
   "source": [
    "'{0:,}'.format(123456789000)"
   ]
  },
  {
   "cell_type": "code",
   "execution_count": 30,
   "metadata": {},
   "outputs": [
    {
     "data": {
      "text/plain": [
       "'Today is 2017-10-17'"
      ]
     },
     "execution_count": 30,
     "metadata": {},
     "output_type": "execute_result"
    }
   ],
   "source": [
    "from datetime import datetime\n",
    "'Today is {:%Y-%m-%d}'.format(datetime.now())"
   ]
  },
  {
   "cell_type": "code",
   "execution_count": 2,
   "metadata": {},
   "outputs": [
    {
     "data": {
      "text/plain": [
       "'0.176000%'"
      ]
     },
     "execution_count": 2,
     "metadata": {},
     "output_type": "execute_result"
    }
   ],
   "source": [
    "'{:%}'.format(0.00176)"
   ]
  },
  {
   "cell_type": "code",
   "execution_count": null,
   "metadata": {
    "collapsed": true
   },
   "outputs": [],
   "source": []
  }
 ],
 "metadata": {
  "kernelspec": {
   "display_name": "Python 3",
   "language": "python",
   "name": "python3"
  },
  "language_info": {
   "codemirror_mode": {
    "name": "ipython",
    "version": 3
   },
   "file_extension": ".py",
   "mimetype": "text/x-python",
   "name": "python",
   "nbconvert_exporter": "python",
   "pygments_lexer": "ipython3",
   "version": "3.6.1"
  }
 },
 "nbformat": 4,
 "nbformat_minor": 2
}
