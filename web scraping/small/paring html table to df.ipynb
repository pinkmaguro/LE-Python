{
 "cells": [
  {
   "cell_type": "code",
   "execution_count": 1,
   "metadata": {
    "collapsed": true
   },
   "outputs": [],
   "source": [
    "import requests\n",
    "import pandas as pd\n",
    "from urllib.request import urlopen\n",
    "from bs4 import BeautifulSoup"
   ]
  },
  {
   "cell_type": "code",
   "execution_count": 40,
   "metadata": {
    "collapsed": true
   },
   "outputs": [],
   "source": [
    "def get_financial_statements(code):\n",
    "    url = \"http://companyinfo.stock.naver.com/v1/company/ajax/cF1001.aspx?cmp_cd=%s&fin_typ=0&freq_typ=Y\" % (code)\n",
    "    html = requests.get(url).text\n",
    "\n",
    "\n",
    "    html = html.replace('<th rowspan=\"2\" class=\"r03c00 bg\" style=\"width:125px\">주요재무정보</th>', \"\")\n",
    "    html = html.replace('<th class=\"bg r01c02 endLine line-bottom\"colspan=\"8\">연간</th>', \"\")\n",
    "    html = html.replace(\"<span class='span-sub'>(IFRS연결)</span>\", \"\")\n",
    "\n",
    "    html = html.replace('\\t', '')\n",
    "    html = html.replace('\\n', '')\n",
    "    html = html.replace('\\r', '')\n",
    "\n",
    "    df_list = pd.read_html(html, index_col=0)\n",
    "    df = df_list[0]\n",
    "\n",
    "    return df"
   ]
  },
  {
   "cell_type": "code",
   "execution_count": 41,
   "metadata": {},
   "outputs": [],
   "source": [
    "df = get_financial_statements('035720')"
   ]
  },
  {
   "cell_type": "code",
   "execution_count": 42,
   "metadata": {},
   "outputs": [
    {
     "data": {
      "text/html": [
       "<div>\n",
       "<style>\n",
       "    .dataframe thead tr:only-child th {\n",
       "        text-align: right;\n",
       "    }\n",
       "\n",
       "    .dataframe thead th {\n",
       "        text-align: left;\n",
       "    }\n",
       "\n",
       "    .dataframe tbody tr th {\n",
       "        vertical-align: top;\n",
       "    }\n",
       "</style>\n",
       "<table border=\"1\" class=\"dataframe\">\n",
       "  <thead>\n",
       "    <tr style=\"text-align: right;\">\n",
       "      <th></th>\n",
       "      <th>2013/12</th>\n",
       "      <th>2014/12</th>\n",
       "      <th>2015/12</th>\n",
       "      <th>2016/12</th>\n",
       "      <th>2017/12(E)</th>\n",
       "      <th>2018/12(E)</th>\n",
       "      <th>2019/12(E)</th>\n",
       "      <th>Unnamed: 8</th>\n",
       "    </tr>\n",
       "    <tr>\n",
       "      <th>2012/12</th>\n",
       "      <th></th>\n",
       "      <th></th>\n",
       "      <th></th>\n",
       "      <th></th>\n",
       "      <th></th>\n",
       "      <th></th>\n",
       "      <th></th>\n",
       "      <th></th>\n",
       "    </tr>\n",
       "  </thead>\n",
       "  <tbody>\n",
       "    <tr>\n",
       "      <th>매출액</th>\n",
       "      <td>4534.0</td>\n",
       "      <td>2108.0</td>\n",
       "      <td>4989.0</td>\n",
       "      <td>9322.0</td>\n",
       "      <td>14642.0</td>\n",
       "      <td>19069.0</td>\n",
       "      <td>21831.0</td>\n",
       "      <td>24552.0</td>\n",
       "    </tr>\n",
       "    <tr>\n",
       "      <th>영업이익</th>\n",
       "      <td>1018.0</td>\n",
       "      <td>659.0</td>\n",
       "      <td>1764.0</td>\n",
       "      <td>886.0</td>\n",
       "      <td>1161.0</td>\n",
       "      <td>1775.0</td>\n",
       "      <td>2460.0</td>\n",
       "      <td>3233.0</td>\n",
       "    </tr>\n",
       "    <tr>\n",
       "      <th>영업이익(발표기준)</th>\n",
       "      <td>1018.0</td>\n",
       "      <td>818.0</td>\n",
       "      <td>1764.0</td>\n",
       "      <td>886.0</td>\n",
       "      <td>1161.0</td>\n",
       "      <td>NaN</td>\n",
       "      <td>NaN</td>\n",
       "      <td>NaN</td>\n",
       "    </tr>\n",
       "    <tr>\n",
       "      <th>세전계속사업이익</th>\n",
       "      <td>1009.0</td>\n",
       "      <td>604.0</td>\n",
       "      <td>1688.0</td>\n",
       "      <td>1095.0</td>\n",
       "      <td>1003.0</td>\n",
       "      <td>1408.0</td>\n",
       "      <td>2216.0</td>\n",
       "      <td>2995.0</td>\n",
       "    </tr>\n",
       "    <tr>\n",
       "      <th>당기순이익</th>\n",
       "      <td>766.0</td>\n",
       "      <td>614.0</td>\n",
       "      <td>1498.0</td>\n",
       "      <td>788.0</td>\n",
       "      <td>655.0</td>\n",
       "      <td>1290.0</td>\n",
       "      <td>1658.0</td>\n",
       "      <td>2244.0</td>\n",
       "    </tr>\n",
       "  </tbody>\n",
       "</table>\n",
       "</div>"
      ],
      "text/plain": [
       "            2013/12  2014/12  2015/12  2016/12  2017/12(E)  2018/12(E)  \\\n",
       "2012/12                                                                  \n",
       "매출액          4534.0   2108.0   4989.0   9322.0     14642.0     19069.0   \n",
       "영업이익         1018.0    659.0   1764.0    886.0      1161.0      1775.0   \n",
       "영업이익(발표기준)   1018.0    818.0   1764.0    886.0      1161.0         NaN   \n",
       "세전계속사업이익     1009.0    604.0   1688.0   1095.0      1003.0      1408.0   \n",
       "당기순이익         766.0    614.0   1498.0    788.0       655.0      1290.0   \n",
       "\n",
       "            2019/12(E)  Unnamed: 8  \n",
       "2012/12                             \n",
       "매출액            21831.0     24552.0  \n",
       "영업이익            2460.0      3233.0  \n",
       "영업이익(발표기준)         NaN         NaN  \n",
       "세전계속사업이익        2216.0      2995.0  \n",
       "당기순이익           1658.0      2244.0  "
      ]
     },
     "execution_count": 42,
     "metadata": {},
     "output_type": "execute_result"
    }
   ],
   "source": [
    "df.head(5)"
   ]
  },
  {
   "cell_type": "code",
   "execution_count": 36,
   "metadata": {},
   "outputs": [
    {
     "data": {
      "text/plain": [
       "Index(['2013/12', '2014/12', '2015/12', '2016/12', '2017/12(E)', '2018/12(E)',\n",
       "       '2019/12(E)', 'Unnamed: 8'],\n",
       "      dtype='object')"
      ]
     },
     "execution_count": 36,
     "metadata": {},
     "output_type": "execute_result"
    }
   ],
   "source": [
    "df.columns"
   ]
  },
  {
   "cell_type": "code",
   "execution_count": 31,
   "metadata": {},
   "outputs": [],
   "source": [
    "columns =  df.columns[:-1]\n",
    "columns = columns.insert(-1, '항목')"
   ]
  },
  {
   "cell_type": "code",
   "execution_count": 50,
   "metadata": {
    "scrolled": true
   },
   "outputs": [
    {
     "data": {
      "text/plain": [
       "DatetimeIndex(['2012-12-31', '2013-12-31', '2014-12-31', '2015-12-31',\n",
       "               '2016-12-31', '2017-12-31', '2018-12-31', '2019-12-31'],\n",
       "              dtype='datetime64[ns]', freq='12M')"
      ]
     },
     "execution_count": 50,
     "metadata": {},
     "output_type": "execute_result"
    }
   ],
   "source": [
    "col = pd.date_range('201212', periods=8, freq='12M')\n",
    "col"
   ]
  },
  {
   "cell_type": "code",
   "execution_count": 51,
   "metadata": {
    "scrolled": true
   },
   "outputs": [
    {
     "data": {
      "text/html": [
       "<div>\n",
       "<style>\n",
       "    .dataframe thead tr:only-child th {\n",
       "        text-align: right;\n",
       "    }\n",
       "\n",
       "    .dataframe thead th {\n",
       "        text-align: left;\n",
       "    }\n",
       "\n",
       "    .dataframe tbody tr th {\n",
       "        vertical-align: top;\n",
       "    }\n",
       "</style>\n",
       "<table border=\"1\" class=\"dataframe\">\n",
       "  <thead>\n",
       "    <tr style=\"text-align: right;\">\n",
       "      <th></th>\n",
       "      <th>2012-12-31 00:00:00</th>\n",
       "      <th>2013-12-31 00:00:00</th>\n",
       "      <th>2014-12-31 00:00:00</th>\n",
       "      <th>2015-12-31 00:00:00</th>\n",
       "      <th>2016-12-31 00:00:00</th>\n",
       "      <th>2017-12-31 00:00:00</th>\n",
       "      <th>2018-12-31 00:00:00</th>\n",
       "      <th>2019-12-31 00:00:00</th>\n",
       "    </tr>\n",
       "    <tr>\n",
       "      <th>2012/12</th>\n",
       "      <th></th>\n",
       "      <th></th>\n",
       "      <th></th>\n",
       "      <th></th>\n",
       "      <th></th>\n",
       "      <th></th>\n",
       "      <th></th>\n",
       "      <th></th>\n",
       "    </tr>\n",
       "  </thead>\n",
       "  <tbody>\n",
       "    <tr>\n",
       "      <th>매출액</th>\n",
       "      <td>4534.0</td>\n",
       "      <td>2108.0</td>\n",
       "      <td>4989.0</td>\n",
       "      <td>9322.0</td>\n",
       "      <td>14642.0</td>\n",
       "      <td>19069.0</td>\n",
       "      <td>21831.0</td>\n",
       "      <td>24552.0</td>\n",
       "    </tr>\n",
       "    <tr>\n",
       "      <th>영업이익</th>\n",
       "      <td>1018.0</td>\n",
       "      <td>659.0</td>\n",
       "      <td>1764.0</td>\n",
       "      <td>886.0</td>\n",
       "      <td>1161.0</td>\n",
       "      <td>1775.0</td>\n",
       "      <td>2460.0</td>\n",
       "      <td>3233.0</td>\n",
       "    </tr>\n",
       "    <tr>\n",
       "      <th>영업이익(발표기준)</th>\n",
       "      <td>1018.0</td>\n",
       "      <td>818.0</td>\n",
       "      <td>1764.0</td>\n",
       "      <td>886.0</td>\n",
       "      <td>1161.0</td>\n",
       "      <td>NaN</td>\n",
       "      <td>NaN</td>\n",
       "      <td>NaN</td>\n",
       "    </tr>\n",
       "    <tr>\n",
       "      <th>세전계속사업이익</th>\n",
       "      <td>1009.0</td>\n",
       "      <td>604.0</td>\n",
       "      <td>1688.0</td>\n",
       "      <td>1095.0</td>\n",
       "      <td>1003.0</td>\n",
       "      <td>1408.0</td>\n",
       "      <td>2216.0</td>\n",
       "      <td>2995.0</td>\n",
       "    </tr>\n",
       "    <tr>\n",
       "      <th>당기순이익</th>\n",
       "      <td>766.0</td>\n",
       "      <td>614.0</td>\n",
       "      <td>1498.0</td>\n",
       "      <td>788.0</td>\n",
       "      <td>655.0</td>\n",
       "      <td>1290.0</td>\n",
       "      <td>1658.0</td>\n",
       "      <td>2244.0</td>\n",
       "    </tr>\n",
       "  </tbody>\n",
       "</table>\n",
       "</div>"
      ],
      "text/plain": [
       "            2012-12-31  2013-12-31  2014-12-31  2015-12-31  2016-12-31  \\\n",
       "2012/12                                                                  \n",
       "매출액             4534.0      2108.0      4989.0      9322.0     14642.0   \n",
       "영업이익            1018.0       659.0      1764.0       886.0      1161.0   \n",
       "영업이익(발표기준)      1018.0       818.0      1764.0       886.0      1161.0   \n",
       "세전계속사업이익        1009.0       604.0      1688.0      1095.0      1003.0   \n",
       "당기순이익            766.0       614.0      1498.0       788.0       655.0   \n",
       "\n",
       "            2017-12-31  2018-12-31  2019-12-31  \n",
       "2012/12                                         \n",
       "매출액            19069.0     21831.0     24552.0  \n",
       "영업이익            1775.0      2460.0      3233.0  \n",
       "영업이익(발표기준)         NaN         NaN         NaN  \n",
       "세전계속사업이익        1408.0      2216.0      2995.0  \n",
       "당기순이익           1290.0      1658.0      2244.0  "
      ]
     },
     "execution_count": 51,
     "metadata": {},
     "output_type": "execute_result"
    }
   ],
   "source": [
    "df.columns = col\n",
    "df.head(5)"
   ]
  },
  {
   "cell_type": "code",
   "execution_count": null,
   "metadata": {
    "collapsed": true
   },
   "outputs": [],
   "source": []
  }
 ],
 "metadata": {
  "kernelspec": {
   "display_name": "Python 3",
   "language": "python",
   "name": "python3"
  },
  "language_info": {
   "codemirror_mode": {
    "name": "ipython",
    "version": 3
   },
   "file_extension": ".py",
   "mimetype": "text/x-python",
   "name": "python",
   "nbconvert_exporter": "python",
   "pygments_lexer": "ipython3",
   "version": "3.6.1"
  }
 },
 "nbformat": 4,
 "nbformat_minor": 2
}
